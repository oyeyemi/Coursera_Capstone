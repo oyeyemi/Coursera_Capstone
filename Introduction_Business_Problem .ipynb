{
 "cells": [
  {
   "cell_type": "markdown",
   "metadata": {},
   "source": [
    "### Predicting Crash Severity and Fatalities for NZ Road Accidents\n",
    "#### INTRODUCTION\n",
    "Car crashes and road accidents could be considered an old topic. Yet, with the progress of the technology involved and the capabilities of these sophisticated machines, it is ever more important to have tools and means available to mitigate their occurrences, as well as the implications and consequences for the people involved. \n",
    "Thanks to the advancement of technological and analytical tools in the last two decades we are now able to better understand how crashes happen. This enables the transport, security and emergency agencies all around the world to have different (predictive) models for quickly analyzing crashes when they happen and dispatch an appropriate response swiftly.\n",
    "\n",
    "#### Business Problem\n",
    "To reduce the frequency of car collisions in a community, an algorithm must be developed to predict the severity of an accident. When conditions are unfavorable, this model will alert drivers to remind them to be more careful.\n",
    "Our goal is to predict the severity of a crash. \n",
    "\n",
    "\n",
    "#### To achieve our goal, we will go through the following steps:\n",
    "<ol> \n",
    "    <li>Feature Exploration (with data cleaning)</li> \n",
    "    <li>Dimensionality reduction</li>\n",
    "    <li>Model building (including benchmark and baselines models)</li>\n",
    "    <li>Optimization and final model selection.</li>\n",
    "</ol>\n",
    "\n",
    "\n",
    "Considering that our problem is a multiclass classification that have imbalanced classes, we will use an F1 score to evaluate the performance of the different models that we will train. For each model, the value for the global score will, in turn, be the average of the Fl scores for each class. So, we will be using a one vs all approach. However, we will also take a close look at accuracy, precision and recall; since they all provide valuable insights into understanding how the model is performing.\n",
    "\n",
    "Finally, we will explain and give details on what are some possible next steps to further improve the overall performance and interpretability of the chosen model.\n"
   ]
  },
  {
   "cell_type": "code",
   "execution_count": null,
   "metadata": {},
   "outputs": [],
   "source": []
  }
 ],
 "metadata": {
  "kernelspec": {
   "display_name": "Python 3",
   "language": "python",
   "name": "python3"
  },
  "language_info": {
   "codemirror_mode": {
    "name": "ipython",
    "version": 3
   },
   "file_extension": ".py",
   "mimetype": "text/x-python",
   "name": "python",
   "nbconvert_exporter": "python",
   "pygments_lexer": "ipython3",
   "version": "3.7.6"
  }
 },
 "nbformat": 4,
 "nbformat_minor": 4
}
